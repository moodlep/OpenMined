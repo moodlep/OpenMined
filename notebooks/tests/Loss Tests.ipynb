{
 "cells": [
  {
   "cell_type": "code",
   "execution_count": 1,
   "metadata": {},
   "outputs": [
    {
     "name": "stderr",
     "output_type": "stream",
     "text": [
      "/Users/perusha/anaconda/envs/python3/lib/python3.6/site-packages/IPython/html.py:14: ShimWarning: The `IPython.html` package has been deprecated since IPython 4.0. You should import from `notebook` instead. `IPython.html.widgets` has moved to `ipywidgets`.\n",
      "  \"`IPython.html.widgets` has moved to `ipywidgets`.\", ShimWarning)\n",
      "Import warning: PyTorch capabilities not available due to torch module not found on your system\n",
      "How to install PyTorch: http://pytorch.org/"
     ]
    }
   ],
   "source": [
    "import syft\n",
    "import syft.nn as nn\n",
    "from syft.controller import tensors, models\n",
    "import imp\n",
    "imp.reload(syft.controller)\n",
    "imp.reload(syft.nn)\n",
    "imp.reload(syft)\n",
    "\n",
    "import numpy as np\n",
    "from syft import FloatTensor\n"
   ]
  },
  {
   "cell_type": "code",
   "execution_count": 2,
   "metadata": {},
   "outputs": [
    {
     "name": "stdout",
     "output_type": "stream",
     "text": [
      "_________________________________________________________________\n",
      "Layer (type)                 Output Shape              Param #   \n",
      "=================================================================\n",
      "linear_1 (Linear)            (None, 4)                 12\n",
      "_________________________________________________________________\n",
      "sigmoid_2 (Sigmoid)          (dynamic)                 0\n",
      "_________________________________________________________________\n",
      "linear_3 (Linear)            (None, 2)                 8\n",
      "_________________________________________________________________\n",
      "sigmoid_4 (Sigmoid)          (dynamic)                 0\n",
      "=================================================================\n",
      "Total params: 20\n",
      "Trainable params: 20\n",
      "Non-trainable params: 0\n",
      "_________________________________________________________________\n",
      "\n"
     ]
    }
   ],
   "source": [
    "# Testing fit - high level: \n",
    "\n",
    "import syft.optim as optim\n",
    "\n",
    "OPTIMIZER_TYPE = 'adam'\n",
    "\n",
    "model = nn.Sequential([\n",
    "    nn.Linear(3,4),\n",
    "    nn.Sigmoid(),\n",
    "    nn.Linear(4,2),\n",
    "    nn.Sigmoid()\n",
    "])\n",
    "\n",
    "model.summary()\n",
    "\n",
    "# Define the optimizer you want to test above\n",
    "if OPTIMIZER_TYPE == 'sgd':\n",
    "    optimizer = optim.SGD(model.parameters(), lr=0.1, momentum=0.9)\n",
    "elif OPTIMIZER_TYPE == 'rmsprop':\n",
    "    # **NOTE** RMSProp doesn't converge with the recommended params for this fake dataset.\n",
    "    optimizer = optim.RMSProp(model.parameters(), lr=0.01, rho=0.95)\n",
    "elif OPTIMIZER_TYPE == 'adam':\n",
    "    optimizer = optim.Adam(model.parameters(), lr=0.1)\n",
    "\n",
    "#criterion = syft.nn.NLLLoss()\n",
    "criterion = syft.nn.CrossEntropyLoss()\n",
    "\n",
    "input = FloatTensor([[0,0,1],[0,1.0,1],[1,0,1],[1,1,1]],autograd=True)\n",
    "target = FloatTensor([[0,0],[0,0],[0,1],[0,1]],autograd=True)\n",
    "\n"
   ]
  },
  {
   "cell_type": "code",
   "execution_count": 4,
   "metadata": {},
   "outputs": [
    {
     "data": {
      "text/plain": [
       "<syft.nn.linear at 1>\n",
       "\t W:[syft.FloatTensor:1 grad:51 size:3x4 c:[15, 48] p:[] init:]\n",
       "\t A:[syft.FloatTensor:15 grad:47 size:2x4 c:[16] p:[13, 1] init:mm]\n",
       "\n",
       "<syft.nn.sigmoid at 2>\n",
       "\t A:[syft.FloatTensor:16 grad:41 size:2x4 c:[17, 40, 42] p:[15] init:sigmoid]\n",
       "\n",
       "<syft.nn.linear at 3>\n",
       "\t W:[syft.FloatTensor:2 grad:52 size:4x2 c:[17, 39] p:[] init:]\n",
       "\t A:[syft.FloatTensor:17 grad:38 size:2x2 c:[18] p:[16, 2] init:mm]\n",
       "\n",
       "<syft.nn.sigmoid at 4>\n",
       "\t A:[syft.FloatTensor:18 grad:30 size:2x2 c:[19, 25, 31, 105] p:[17] init:sigmoid]\n"
      ]
     },
     "execution_count": 4,
     "metadata": {},
     "output_type": "execute_result"
    }
   ],
   "source": [
    "model"
   ]
  },
  {
   "cell_type": "code",
   "execution_count": 3,
   "metadata": {},
   "outputs": [
    {
     "name": "stdout",
     "output_type": "stream",
     "text": [
      "Number of Batches:2\n"
     ]
    },
    {
     "data": {
      "application/vnd.jupyter.widget-view+json": {
       "model_id": "262d498cb8d6419d95e8c1fb21b002c9"
      }
     },
     "metadata": {},
     "output_type": "display_data"
    },
    {
     "data": {
      "application/vnd.jupyter.widget-view+json": {
       "model_id": "10fcb19eb96d4775947eae39dec70bfe"
      }
     },
     "metadata": {},
     "output_type": "display_data"
    },
    {
     "data": {
      "application/vnd.jupyter.widget-view+json": {
       "model_id": "256df2e54195496c8936c40d6aa1b38d"
      }
     },
     "metadata": {},
     "output_type": "display_data"
    },
    {
     "data": {
      "text/plain": [
       "100000"
      ]
     },
     "execution_count": 3,
     "metadata": {},
     "output_type": "execute_result"
    }
   ],
   "source": [
    "final_loss = model.fit(input=input,\n",
    "                       target=target,                       \n",
    "                       batch_size=2,\n",
    "                       criterion=criterion,\n",
    "                       optim=optimizer,\n",
    "                       iters=2,log_interval=4)\n",
    "final_loss"
   ]
  },
  {
   "cell_type": "code",
   "execution_count": 6,
   "metadata": {},
   "outputs": [
    {
     "data": {
      "text/plain": [
       "[[ 0.  0.]\n",
       " [ 0.  0.]]\n",
       "[syft.FloatTensor:30 grad:None size:2x2 c:[31] p:[16, 29] init:mul_elem]\n",
       "\n",
       "\t-----------children-----------\n",
       "\t[syft.FloatTensor:31 grad:None size:1 c:[32] p:[30] init:sum_-1_False]\n",
       "\t------------------------------\n",
       "\n",
       "\t-----------creators-----------\n",
       "\t[syft.FloatTensor:16 grad:None size:2x2 c:[30, 32] p:[] init:]\n",
       "\t[syft.FloatTensor:29 grad:None size:2x2 c:[30] p:[28] init:log]\n",
       "\t------------------------------\n",
       "\n"
      ]
     },
     "execution_count": 6,
     "metadata": {},
     "output_type": "execute_result"
    }
   ],
   "source": [
    "tensors[30]"
   ]
  },
  {
   "cell_type": "code",
   "execution_count": null,
   "metadata": {
    "collapsed": true
   },
   "outputs": [],
   "source": [
    "# Testing a single forward and backward pass: \n",
    "\n",
    "model = nn.Sequential([\n",
    "    nn.Linear(3,4),\n",
    "    nn.Sigmoid(),\n",
    "    nn.Linear(4,1),\n",
    "    nn.Sigmoid()\n",
    "])"
   ]
  },
  {
   "cell_type": "code",
   "execution_count": 3,
   "metadata": {
    "collapsed": true
   },
   "outputs": [],
   "source": [
    "input_data = np.array([[0,0,1],[0,1.0,1],[1,0,1],[1,1,1]])\n",
    "target_data = np.array([[0],[0],[1],[1]])\n",
    "input = FloatTensor([[0,0,1],[0,1.0,1],[1,0,1],[1,1,1]], autograd=True)\n",
    "target = FloatTensor([[0],[0],[1],[1]], autograd=True)"
   ]
  },
  {
   "cell_type": "code",
   "execution_count": 4,
   "metadata": {
    "collapsed": true
   },
   "outputs": [],
   "source": [
    "pred = model(input)\n",
    "#loss = (pred - target) ** 2\n",
    "#loss.backward()"
   ]
  },
  {
   "cell_type": "code",
   "execution_count": 5,
   "metadata": {},
   "outputs": [
    {
     "data": {
      "text/plain": [
       "[[ 0.5335057]\n",
       " [ 0.5318952]\n",
       " [ 0.5441882]\n",
       " [ 0.5424554]]\n",
       "[syft.FloatTensor:16 grad:None size:4x1 c:[] p:[15] init:sigmoid]\n",
       "\n",
       "\t-----------creators-----------\n",
       "\t[syft.FloatTensor:15 grad:None size:4x1 c:[16] p:[12, 14] init:add_elem]\n",
       "\t------------------------------\n",
       "\n"
      ]
     },
     "execution_count": 5,
     "metadata": {},
     "output_type": "execute_result"
    }
   ],
   "source": [
    "pred"
   ]
  },
  {
   "cell_type": "code",
   "execution_count": 6,
   "metadata": {},
   "outputs": [
    {
     "name": "stdout",
     "output_type": "stream",
     "text": [
      "  1.140322 \n",
      "\n",
      "  1.140322 \n",
      "\n"
     ]
    }
   ],
   "source": [
    "# Testing MSELoss: \n",
    "loss = (nn.MSELoss()).forward(pred,target)\n",
    "print(loss)\n",
    "print(((pred-target)**2).sum())"
   ]
  },
  {
   "cell_type": "code",
   "execution_count": 6,
   "metadata": {},
   "outputs": [
    {
     "name": "stdout",
     "output_type": "stream",
     "text": [
      "[[ 0.7043499]\n",
      " [ 0.7426865]\n",
      " [ 0.7711535]\n",
      " [ 0.7993531]]\n",
      "[[ 0.23765225]\n",
      " [ 0.24693993]\n",
      " [ 0.25407058]\n",
      " [ 0.26133724]]\n"
     ]
    },
    {
     "data": {
      "text/plain": [
       "-0.45856718401967267"
      ]
     },
     "execution_count": 6,
     "metadata": {},
     "output_type": "execute_result"
    }
   ],
   "source": [
    "#Manual Cross Entropy Calc: \n",
    "def softmax(x):\n",
    "    \"\"\"Compute softmax values for each sets of scores in x.\"\"\"\n",
    "    return np.exp(x) / np.sum(np.exp(x), axis=0)\n",
    "print(pred.to_numpy())\n",
    "print(softmax(pred.to_numpy()))\n",
    "-1*np.sum(target_data*np.log1p(softmax(pred.to_numpy())))"
   ]
  },
  {
   "cell_type": "code",
   "execution_count": 6,
   "metadata": {},
   "outputs": [
    {
     "name": "stdout",
     "output_type": "stream",
     "text": [
      "  0. \n"
     ]
    }
   ],
   "source": [
    "# Testing Cross Entropy Loss\n",
    "loss = (nn.CrossEntropyLoss()).forward(pred,target)\n",
    "print(loss)"
   ]
  },
  {
   "cell_type": "markdown",
   "metadata": {},
   "source": [
    "Just testing the printing works: "
   ]
  },
  {
   "cell_type": "code",
   "execution_count": 7,
   "metadata": {},
   "outputs": [
    {
     "data": {
      "text/plain": [
       "<syft.nn.linear at 1>\n",
       "\t W:[syft.FloatTensor:1 grad:None size:3x4 c:[7] p:[] init:]\n",
       "\t W:[syft.FloatTensor:2 grad:None size:1x4 c:[8] p:[] init:]\n",
       "\t A:[syft.FloatTensor:10 grad:None size:4x4 c:[11] p:[7, 9] init:add_elem]\n",
       "\n",
       "<syft.nn.sigmoid at 2>\n",
       "\t A:[syft.FloatTensor:11 grad:None size:4x4 c:[12] p:[10] init:sigmoid]\n",
       "\n",
       "<syft.nn.linear at 3>\n",
       "\t W:[syft.FloatTensor:3 grad:None size:4x1 c:[12] p:[] init:]\n",
       "\t W:[syft.FloatTensor:4 grad:None size:1x1 c:[13] p:[] init:]\n",
       "\t A:[syft.FloatTensor:15 grad:None size:4x1 c:[16] p:[12, 14] init:add_elem]\n",
       "\n",
       "<syft.nn.sigmoid at 4>\n",
       "\t A:[syft.FloatTensor:16 grad:None size:4x1 c:[17, 22] p:[15] init:sigmoid]\n"
      ]
     },
     "execution_count": 7,
     "metadata": {},
     "output_type": "execute_result"
    }
   ],
   "source": [
    "model"
   ]
  },
  {
   "cell_type": "code",
   "execution_count": 8,
   "metadata": {},
   "outputs": [
    {
     "data": {
      "text/plain": [
       "[[ 0.5335057]\n",
       " [ 0.5318952]\n",
       " [ 0.5441882]\n",
       " [ 0.5424554]]\n",
       "[syft.FloatTensor:16 grad:None size:4x1 c:[17, 22] p:[15] init:sigmoid]\n",
       "\n",
       "\t-----------children-----------\n",
       "\t[syft.FloatTensor:17 grad:None size:4x1 c:[18] p:[16] init:copy_autograd_flip]\n",
       "\t[syft.FloatTensor:22 grad:None size:1 c:[] p:[16, 6] init:crossentropyloss]\n",
       "\t------------------------------\n",
       "\n",
       "\t-----------creators-----------\n",
       "\t[syft.FloatTensor:15 grad:None size:4x1 c:[16] p:[12, 14] init:add_elem]\n",
       "\t------------------------------\n",
       "\n"
      ]
     },
     "execution_count": 8,
     "metadata": {},
     "output_type": "execute_result"
    }
   ],
   "source": [
    "pred"
   ]
  },
  {
   "cell_type": "code",
   "execution_count": 9,
   "metadata": {},
   "outputs": [
    {
     "data": {
      "text/plain": [
       "[ 0.]\n",
       "[syft.FloatTensor:22 grad:None size:1 c:[] p:[16, 6] init:crossentropyloss]\n",
       "\n",
       "\t-----------creators-----------\n",
       "\t[syft.FloatTensor:16 grad:None size:4x1 c:[17, 22] p:[15] init:sigmoid]\n",
       "\t[syft.FloatTensor:6 grad:None size:4x1 c:[20, 22] p:[] init:]\n",
       "\t------------------------------\n",
       "\n"
      ]
     },
     "execution_count": 9,
     "metadata": {},
     "output_type": "execute_result"
    }
   ],
   "source": [
    "loss"
   ]
  },
  {
   "cell_type": "code",
   "execution_count": 10,
   "metadata": {},
   "outputs": [
    {
     "name": "stdout",
     "output_type": "stream",
     "text": [
      "True\n",
      "True\n",
      "False\n",
      "False\n"
     ]
    }
   ],
   "source": [
    "print((tensors[22]).autograd())\n",
    "print((tensors[16]).autograd())\n",
    "print((tensors[6]).autograd())\n",
    "print((tensors[17]).autograd())\n"
   ]
  },
  {
   "cell_type": "code",
   "execution_count": 11,
   "metadata": {},
   "outputs": [
    {
     "data": {
      "text/plain": [
       "[[ 0.5335057]\n",
       " [ 0.5318952]\n",
       " [ 0.5441882]\n",
       " [ 0.5424554]]\n",
       "[syft.FloatTensor:17 grad:None size:4x1 c:[18] p:[16] init:copy_autograd_flip]\n",
       "\n",
       "\t-----------children-----------\n",
       "\t[syft.FloatTensor:18 grad:None size:4x1 c:[19] p:[17] init:softmax-1]\n",
       "\t------------------------------\n",
       "\n",
       "\t-----------creators-----------\n",
       "\t[syft.FloatTensor:16 grad:None size:4x1 c:[17, 22] p:[15] init:sigmoid]\n",
       "\t------------------------------\n",
       "\n"
      ]
     },
     "execution_count": 11,
     "metadata": {},
     "output_type": "execute_result"
    }
   ],
   "source": [
    "tensors[17]"
   ]
  },
  {
   "cell_type": "code",
   "execution_count": 12,
   "metadata": {
    "collapsed": true
   },
   "outputs": [],
   "source": [
    "loss.backward()"
   ]
  },
  {
   "cell_type": "code",
   "execution_count": 19,
   "metadata": {},
   "outputs": [
    {
     "data": {
      "text/plain": [
       "[[ 0.5335057]\n",
       " [ 0.5318952]\n",
       " [ 0.5441882]\n",
       " [ 0.5424554]]\n",
       "[syft.FloatTensor:16 grad:28 size:4x1 c:[17, 22] p:[15] init:sigmoid]\n",
       "\n",
       "\t-----------children-----------\n",
       "\t[syft.FloatTensor:17 grad:None size:4x1 c:[18, 29, 32] p:[16] init:copy_autograd_flip]\n",
       "\t[syft.FloatTensor:22 grad:23 size:1 c:[] p:[16, 6] init:crossentropyloss]\n",
       "\t------------------------------\n",
       "\n",
       "\t-----------creators-----------\n",
       "\t[syft.FloatTensor:15 grad:35 size:4x1 c:[16] p:[12, 14] init:add_elem]\n",
       "\t------------------------------\n",
       "\n"
      ]
     },
     "execution_count": 19,
     "metadata": {},
     "output_type": "execute_result"
    }
   ],
   "source": [
    "pred"
   ]
  },
  {
   "cell_type": "code",
   "execution_count": 20,
   "metadata": {},
   "outputs": [
    {
     "data": {
      "text/plain": [
       "[ 0.]\n",
       "[syft.FloatTensor:22 grad:23 size:1 c:[] p:[16, 6] init:crossentropyloss]\n",
       "\n",
       "\t-----------creators-----------\n",
       "\t[syft.FloatTensor:16 grad:28 size:4x1 c:[17, 22] p:[15] init:sigmoid]\n",
       "\t[syft.FloatTensor:6 grad:None size:4x1 c:[20, 22] p:[] init:]\n",
       "\t------------------------------\n",
       "\n"
      ]
     },
     "execution_count": 20,
     "metadata": {},
     "output_type": "execute_result"
    }
   ],
   "source": [
    "loss"
   ]
  },
  {
   "cell_type": "code",
   "execution_count": 18,
   "metadata": {},
   "outputs": [
    {
     "data": {
      "text/plain": [
       "[-0.1520445]\n",
       "[syft.FloatTensor:28 grad:None size:1 c:[] p:[27, 23] init:mul_elem]\n",
       "\n",
       "\t-----------creators-----------\n",
       "\t[syft.FloatTensor:27 grad:None size:1 c:[28] p:[26] init:sum_-1_False]\n",
       "\t[syft.FloatTensor:23 grad:None size:1 c:[28] p:[] init:emptyTensorCopy]\n",
       "\t------------------------------\n",
       "\n"
      ]
     },
     "execution_count": 18,
     "metadata": {},
     "output_type": "execute_result"
    }
   ],
   "source": [
    "#tensors[18]\n",
    "tensors[28]\n",
    "#tensors[24]\n",
    "#tensors[27]"
   ]
  },
  {
   "cell_type": "code",
   "execution_count": 21,
   "metadata": {},
   "outputs": [
    {
     "data": {
      "text/plain": [
       "<syft.nn.linear at 1>\n",
       "\t W:[syft.FloatTensor:1 grad:48 size:3x4 c:[7, 45] p:[] init:]\n",
       "\t W:[syft.FloatTensor:2 grad:52 size:1x4 c:[8] p:[] init:]\n",
       "\t A:[syft.FloatTensor:10 grad:44 size:4x4 c:[11] p:[7, 9] init:add_elem]\n",
       "\n",
       "<syft.nn.sigmoid at 2>\n",
       "\t A:[syft.FloatTensor:11 grad:38 size:4x4 c:[12, 37, 39] p:[10] init:sigmoid]\n",
       "\n",
       "<syft.nn.linear at 3>\n",
       "\t W:[syft.FloatTensor:3 grad:53 size:4x1 c:[12, 36] p:[] init:]\n",
       "\t W:[syft.FloatTensor:4 grad:57 size:1x1 c:[13] p:[] init:]\n",
       "\t A:[syft.FloatTensor:15 grad:35 size:4x1 c:[16] p:[12, 14] init:add_elem]\n",
       "\n",
       "<syft.nn.sigmoid at 4>\n",
       "\t A:[syft.FloatTensor:16 grad:28 size:4x1 c:[17, 22] p:[15] init:sigmoid]\n"
      ]
     },
     "execution_count": 21,
     "metadata": {},
     "output_type": "execute_result"
    }
   ],
   "source": [
    "model"
   ]
  },
  {
   "cell_type": "code",
   "execution_count": 22,
   "metadata": {},
   "outputs": [
    {
     "data": {
      "text/plain": [
       "[[ 0.1342238]\n",
       " [ 0.1277542]\n",
       " [ 0.1772151]\n",
       " [ 0.1702316]]\n",
       "[syft.FloatTensor:12 grad:35 size:4x1 c:[15] p:[11, 3] init:mm]\n",
       "\n",
       "\t-----------children-----------\n",
       "\t[syft.FloatTensor:15 grad:35 size:4x1 c:[16] p:[12, 14] init:add_elem]\n",
       "\t------------------------------\n",
       "\n",
       "\t-----------creators-----------\n",
       "\t[syft.FloatTensor:11 grad:38 size:4x4 c:[12, 37, 39] p:[10] init:sigmoid]\n",
       "\t[syft.FloatTensor:3 grad:53 size:4x1 c:[12, 36] p:[] init:]\n",
       "\t------------------------------\n",
       "\n"
      ]
     },
     "execution_count": 22,
     "metadata": {},
     "output_type": "execute_result"
    }
   ],
   "source": [
    "tensors[12]"
   ]
  },
  {
   "cell_type": "code",
   "execution_count": 23,
   "metadata": {},
   "outputs": [
    {
     "data": {
      "text/plain": [
       "[[ 0.6186889  0.6398186  0.3602833  0.3954641]\n",
       " [ 0.5670761  0.6698359  0.4540931  0.4075304]\n",
       " [ 0.5846717  0.7317994  0.3225332  0.4490698]\n",
       " [ 0.5319379  0.7570617  0.4128572  0.4615231]]\n",
       "[syft.FloatTensor:11 grad:38 size:4x4 c:[12, 37, 39] p:[10] init:sigmoid]\n",
       "\n",
       "\t-----------children-----------\n",
       "\t[syft.FloatTensor:12 grad:35 size:4x1 c:[15] p:[11, 3] init:mm]\n",
       "\t[syft.FloatTensor:37 grad:None size:4x4 c:[53] p:[11] init:transpose]\n",
       "\t[syft.FloatTensor:39 grad:None size:4x4 c:[40, 43] p:[11] init:copy_autograd_flip]\n",
       "\t------------------------------\n",
       "\n",
       "\t-----------creators-----------\n",
       "\t[syft.FloatTensor:10 grad:44 size:4x4 c:[11] p:[7, 9] init:add_elem]\n",
       "\t------------------------------\n",
       "\n"
      ]
     },
     "execution_count": 23,
     "metadata": {},
     "output_type": "execute_result"
    }
   ],
   "source": [
    "tensors[11]"
   ]
  },
  {
   "cell_type": "code",
   "execution_count": null,
   "metadata": {
    "collapsed": true
   },
   "outputs": [],
   "source": []
  }
 ],
 "metadata": {
  "kernelspec": {
   "display_name": "Python 3",
   "language": "python",
   "name": "python3"
  },
  "language_info": {
   "codemirror_mode": {
    "name": "ipython",
    "version": 3
   },
   "file_extension": ".py",
   "mimetype": "text/x-python",
   "name": "python",
   "nbconvert_exporter": "python",
   "pygments_lexer": "ipython3",
   "version": "3.6.1"
  }
 },
 "nbformat": 4,
 "nbformat_minor": 2
}
